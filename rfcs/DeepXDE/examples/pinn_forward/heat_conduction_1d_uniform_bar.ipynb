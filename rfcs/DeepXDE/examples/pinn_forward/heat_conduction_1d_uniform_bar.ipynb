{
 "cells": [
  {
   "cell_type": "code",
   "execution_count": 1,
   "metadata": {
    "colab": {
     "base_uri": "https://localhost:8080/"
    },
    "id": "Z2PweKqXHaGp",
    "outputId": "85333610-0880-4826-d3da-e56ac4bcaa40"
   },
   "outputs": [
    {
     "name": "stdout",
     "output_type": "stream",
     "text": [
      "Requirement already satisfied: deepxde in c:\\users\\saransh\\saransh_softwares\\python_3.9\\lib\\site-packages (0.13.6)\n",
      "Requirement already satisfied: scipy in c:\\users\\saransh\\saransh_softwares\\python_3.9\\lib\\site-packages (from deepxde) (1.5.4)\n",
      "Requirement already satisfied: matplotlib in c:\\users\\saransh\\saransh_softwares\\python_3.9\\lib\\site-packages (from deepxde) (3.4.3)\n",
      "Requirement already satisfied: scikit-optimize in c:\\users\\saransh\\saransh_softwares\\python_3.9\\lib\\site-packages (from deepxde) (0.9.0)\n",
      "Requirement already satisfied: scikit-learn in c:\\users\\saransh\\saransh_softwares\\python_3.9\\lib\\site-packages (from deepxde) (0.24.1)\n",
      "Requirement already satisfied: numpy in c:\\users\\saransh\\saransh_softwares\\python_3.9\\lib\\site-packages (from deepxde) (1.19.4)\n",
      "Requirement already satisfied: pyparsing>=2.2.1 in c:\\users\\saransh\\saransh_softwares\\python_3.9\\lib\\site-packages (from matplotlib->deepxde) (2.4.7)\n",
      "Requirement already satisfied: cycler>=0.10 in c:\\users\\saransh\\saransh_softwares\\python_3.9\\lib\\site-packages (from matplotlib->deepxde) (0.10.0)\n",
      "Requirement already satisfied: pillow>=6.2.0 in c:\\users\\saransh\\saransh_softwares\\python_3.9\\lib\\site-packages (from matplotlib->deepxde) (8.2.0)\n",
      "Requirement already satisfied: python-dateutil>=2.7 in c:\\users\\saransh\\saransh_softwares\\python_3.9\\lib\\site-packages (from matplotlib->deepxde) (2.8.2)\n",
      "Requirement already satisfied: kiwisolver>=1.0.1 in c:\\users\\saransh\\saransh_softwares\\python_3.9\\lib\\site-packages (from matplotlib->deepxde) (1.3.1)\n",
      "Requirement already satisfied: joblib>=0.11 in c:\\users\\saransh\\saransh_softwares\\python_3.9\\lib\\site-packages (from scikit-learn->deepxde) (1.0.0)\n",
      "Requirement already satisfied: threadpoolctl>=2.0.0 in c:\\users\\saransh\\saransh_softwares\\python_3.9\\lib\\site-packages (from scikit-learn->deepxde) (2.1.0)\n",
      "Requirement already satisfied: pyaml>=16.9 in c:\\users\\saransh\\saransh_softwares\\python_3.9\\lib\\site-packages (from scikit-optimize->deepxde) (21.10.1)\n",
      "Requirement already satisfied: six in c:\\users\\saransh\\saransh_softwares\\python_3.9\\lib\\site-packages (from cycler>=0.10->matplotlib->deepxde) (1.16.0)\n",
      "Requirement already satisfied: PyYAML in c:\\users\\saransh\\saransh_softwares\\python_3.9\\lib\\site-packages (from pyaml>=16.9->scikit-optimize->deepxde) (5.4.1)\n",
      "Note: you may need to restart the kernel to use updated packages.\n"
     ]
    },
    {
     "name": "stderr",
     "output_type": "stream",
     "text": [
      "WARNING: Ignoring invalid distribution -pencv-python (c:\\users\\saransh\\saransh_softwares\\python_3.9\\lib\\site-packages)\n",
      "WARNING: Ignoring invalid distribution -illow (c:\\users\\saransh\\saransh_softwares\\python_3.9\\lib\\site-packages)\n",
      "WARNING: Ignoring invalid distribution -pencv-python (c:\\users\\saransh\\saransh_softwares\\python_3.9\\lib\\site-packages)\n",
      "WARNING: Ignoring invalid distribution -illow (c:\\users\\saransh\\saransh_softwares\\python_3.9\\lib\\site-packages)\n",
      "WARNING: Ignoring invalid distribution -pencv-python (c:\\users\\saransh\\saransh_softwares\\python_3.9\\lib\\site-packages)\n",
      "WARNING: Ignoring invalid distribution -illow (c:\\users\\saransh\\saransh_softwares\\python_3.9\\lib\\site-packages)\n",
      "WARNING: Ignoring invalid distribution -pencv-python (c:\\users\\saransh\\saransh_softwares\\python_3.9\\lib\\site-packages)\n",
      "WARNING: Ignoring invalid distribution -illow (c:\\users\\saransh\\saransh_softwares\\python_3.9\\lib\\site-packages)\n",
      "WARNING: Ignoring invalid distribution -pencv-python (c:\\users\\saransh\\saransh_softwares\\python_3.9\\lib\\site-packages)\n",
      "WARNING: Ignoring invalid distribution -illow (c:\\users\\saransh\\saransh_softwares\\python_3.9\\lib\\site-packages)\n"
     ]
    }
   ],
   "source": [
    "pip install deepxde"
   ]
  },
  {
   "cell_type": "code",
   "execution_count": 2,
   "metadata": {
    "id": "Eq4raiEN-hu8"
   },
   "outputs": [
    {
     "name": "stderr",
     "output_type": "stream",
     "text": [
      "Using backend: tensorflow\n",
      "\n"
     ]
    }
   ],
   "source": [
    "# Import libraries:\n",
    "import matplotlib.pyplot as plt\n",
    "import numpy as np\n",
    "\n",
    "import deepxde as dde\n",
    "from deepxde.backend import tf\n"
   ]
  },
  {
   "cell_type": "code",
   "execution_count": 3,
   "metadata": {
    "id": "fDLgsURPSEg6"
   },
   "outputs": [],
   "source": [
    "def heat_eq_exact_solution(x, t):\n",
    "    \"\"\"\n",
    "    Returns the exact solution for a given x and t (for sinusoidal initial conditions).\n",
    "    \n",
    "    Parameters\n",
    "    ----------\n",
    "    x : np.ndarray\n",
    "    t : np.ndarray\n",
    "    \"\"\"\n",
    "    \n",
    "    return np.exp(-(n**2*np.pi**2*a*t)/(L**2))*np.sin(n*np.pi*x/L)\n",
    "\n",
    "def gen_exact_solution():\n",
    "    \"\"\"\n",
    "    Generates exact solution for the heat equation for the given values of x and t.\n",
    "    \"\"\"\n",
    "    \n",
    "    # Number of points in each dimension:\n",
    "    x_dim, t_dim = (256, 201)\n",
    "\n",
    "    # Bounds of 'x' and 't':\n",
    "    x_min, t_min = (0, 0.)\n",
    "    x_max, t_max = (L, 1.)\n",
    "\n",
    "    # Create tensors:\n",
    "    t = np.linspace(t_min, t_max, num=t_dim).reshape(t_dim, 1)\n",
    "    x = np.linspace(x_min, x_max, num=x_dim).reshape(x_dim, 1)\n",
    "    usol = np.zeros((x_dim, t_dim)).reshape(x_dim, t_dim)\n",
    "\n",
    "    # Obtain the value of the exact solution for each generated point:\n",
    "    for i in range(x_dim):\n",
    "        for j in range(t_dim):\n",
    "            usol[i][j] = heat_eq_exact_solution(x[i],t[j])\n",
    "\n",
    "    # Save solution:\n",
    "    np.savez('heat_eq_data', x=x, t=t, usol=usol)\n",
    "    data = np.load('heat_eq_data.npz')\n",
    "\n",
    "\n",
    "def gen_testdata():\n",
    "    \"\"\"\n",
    "    Import and preprocess the dataset with the exact solution.\n",
    "    \"\"\"\n",
    "    \n",
    "    # Load the data:\n",
    "    data = np.load('heat_eq_data.npz')\n",
    "    \n",
    "    # Obtain the values for t, x, and the excat solution:\n",
    "    t, x, exact = data[\"t\"], data[\"x\"], data[\"usol\"].T\n",
    "    \n",
    "    # Process the data and flatten it out (like labels and features):\n",
    "    xx, tt = np.meshgrid(x, t)\n",
    "    X = np.vstack((np.ravel(xx), np.ravel(tt))).T\n",
    "    y = exact.flatten()[:, None]\n",
    "    \n",
    "    return X, y\n",
    "\n",
    "def main():\n",
    "\n",
    "    def pde(x, y):\n",
    "        \"\"\"\n",
    "        Expresses the PDE residual of the heat equation.        \n",
    "        \"\"\"\n",
    "        dy_t = dde.grad.jacobian(y, x, i=0, j=1)\n",
    "        dy_xx = dde.grad.hessian(y, x, i=0, j=0)\n",
    "        return dy_t - a*dy_xx\n",
    "\n",
    "    # Computational geometry:\n",
    "    geom = dde.geometry.Interval(0, L)\n",
    "    timedomain = dde.geometry.TimeDomain(0, 1)\n",
    "    geomtime = dde.geometry.GeometryXTime(geom, timedomain)\n",
    "\n",
    "    # Initial and boundary conditions:\n",
    "    bc = dde.icbc.DirichletBC(geomtime, lambda x: 0, lambda _, on_boundary: on_boundary)\n",
    "    ic = dde.icbc.IC(\n",
    "        geomtime, lambda x: np.sin(n*np.pi*x[:, 0:1]/L), lambda _, on_initial: on_initial\n",
    "        )\n",
    "\n",
    "    # Define the PDE problem and configurations of the network:\n",
    "    data = dde.data.TimePDE(\n",
    "        geomtime, pde, [bc, ic], num_domain=2540, num_boundary=80, num_initial=160, num_test=2540\n",
    "    )\n",
    "    net = dde.nn.FNN([2] + [20] * 3 + [1], \"tanh\", \"Glorot normal\")\n",
    "    model = dde.Model(data, net)\n",
    "\n",
    "    # Build and train the model:\n",
    "    model.compile(\"adam\", lr=1e-3)\n",
    "    model.train(epochs=20000)\n",
    "    model.compile(\"L-BFGS\")\n",
    "    losshistory, train_state = model.train()\n",
    "\n",
    "    # Plot/print the results\n",
    "    dde.saveplot(losshistory, train_state, issave=True, isplot=True)\n",
    "    X, y_true = gen_testdata()\n",
    "    y_pred = model.predict(X)\n",
    "    f = model.predict(X, operator=pde)\n",
    "    print(\"Mean residual:\", np.mean(np.absolute(f)))\n",
    "    print(\"L2 relative error:\", dde.metrics.l2_relative_error(y_true, y_pred))\n",
    "    np.savetxt(\"test.dat\", np.hstack((X, y_true, y_pred)))\n"
   ]
  },
  {
   "cell_type": "markdown",
   "metadata": {
    "id": "4ji-gX9wybd-"
   },
   "source": [
    "\n",
    "In this code we will solve the heat equation using PINN implemented with the DeepXDE library.\n",
    "\n",
    "The equation is as follows:\n",
    "\n",
    "$\\frac{\\partial u}{\\partial t} = \\alpha \\nabla^2 u\\;$ .\n",
    "\n",
    "Where $\\nabla^2$ is the laplacian differential operator, $\\alpha$ is the thermal diffusivity constant and $u$ is the function (temperature) we want to approximate.\n",
    "\n",
    "In a unidimensional case we have:\n",
    "\n",
    "$\\frac{\\partial u(x, t)}{\\partial t}$ = $\\alpha \\frac{\\partial^2u(x,t)}{{\\partial x}^2}\\;$, $\\;\\;\\;\\; x \\in [0, 1]\\;$, $\\;\\;\\;\\; t \\in [0, 1]\\;$.\n",
    "\n",
    "With Dirichlet boundary conditions \n",
    "\n",
    "$u(0, t) = u(1, t) = 0\\;$ , \n",
    "\n",
    "and periodic (sinoidal) initial conditions:\n",
    "\n",
    "$u(x, 0) = sin(n\\pi x/L)\\;$, $\\;\\;\\;\\; 0 < x < L\\;$, $\\;\\;\\;\\; n = 1, 2, ...\\;.$\n",
    "\n",
    "This setup is a common problem in many differential equations textbooks and can be physically interpreted as the variation of temperature in a uniform and unidimensional bar over time. Here, the constant $\\alpha$ is the thermal diffusivity (a property of the material that the bar is made) and $L$ is the lenght of the bar.\n",
    "\n"
   ]
  },
  {
   "cell_type": "code",
   "execution_count": 4,
   "metadata": {
    "colab": {
     "base_uri": "https://localhost:8080/",
     "height": 1000
    },
    "id": "8QInMu-MxhIj",
    "outputId": "b294ad3a-282b-4fcc-f6df-6c6fc2c16be3"
   },
   "outputs": [
    {
     "name": "stderr",
     "output_type": "stream",
     "text": [
      "c:\\users\\saransh\\saransh_softwares\\python_3.9\\lib\\site-packages\\skopt\\sampler\\sobol.py:246: UserWarning: The balance properties of Sobol' points require n to be a power of 2. 0 points have been previously generated, then: n=0+2542=2542. \n",
      "  warnings.warn(\"The balance properties of Sobol' points require \"\n",
      "c:\\users\\saransh\\saransh_softwares\\python_3.9\\lib\\site-packages\\skopt\\sampler\\sobol.py:246: UserWarning: The balance properties of Sobol' points require n to be a power of 2. 0 points have been previously generated, then: n=0+82=82. \n",
      "  warnings.warn(\"The balance properties of Sobol' points require \"\n",
      "c:\\users\\saransh\\saransh_softwares\\python_3.9\\lib\\site-packages\\skopt\\sampler\\sobol.py:246: UserWarning: The balance properties of Sobol' points require n to be a power of 2. 0 points have been previously generated, then: n=0+162=162. \n",
      "  warnings.warn(\"The balance properties of Sobol' points require \"\n"
     ]
    },
    {
     "name": "stdout",
     "output_type": "stream",
     "text": [
      "Warning: 2540 points required, but 2550 points sampled.\n",
      "Compiling model...\n",
      "'compile' took 0.000510 s\n",
      "\n",
      "Training model...\n",
      "\n",
      "WARNING:tensorflow:AutoGraph could not transform <function main.<locals>.<lambda> at 0x00000250EE8918B0> and will run it as-is.\n",
      "Cause: could not parse the source code of <function main.<locals>.<lambda> at 0x00000250EE8918B0>: no matching AST found\n",
      "To silence this warning, decorate the function with @tf.autograph.experimental.do_not_convert\n",
      "WARNING: AutoGraph could not transform <function main.<locals>.<lambda> at 0x00000250EE8918B0> and will run it as-is.\n",
      "Cause: could not parse the source code of <function main.<locals>.<lambda> at 0x00000250EE8918B0>: no matching AST found\n",
      "To silence this warning, decorate the function with @tf.autograph.experimental.do_not_convert\n",
      "WARNING:tensorflow:AutoGraph could not transform <function main.<locals>.<lambda> at 0x00000250EE891700> and will run it as-is.\n",
      "Cause: could not parse the source code of <function main.<locals>.<lambda> at 0x00000250EE891700>: no matching AST found\n",
      "To silence this warning, decorate the function with @tf.autograph.experimental.do_not_convert\n",
      "WARNING: AutoGraph could not transform <function main.<locals>.<lambda> at 0x00000250EE891700> and will run it as-is.\n",
      "Cause: could not parse the source code of <function main.<locals>.<lambda> at 0x00000250EE891700>: no matching AST found\n",
      "To silence this warning, decorate the function with @tf.autograph.experimental.do_not_convert\n",
      "Step      Train loss                        Test loss                         Test metric\n",
      "0         [6.96e-03, 3.61e-02, 7.18e-01]    [5.71e-03, 3.61e-02, 7.18e-01]    []  \n",
      "1000      [8.44e-04, 5.63e-04, 2.80e-04]    [5.11e-04, 5.63e-04, 2.80e-04]    []  \n",
      "2000      [1.77e-04, 2.28e-05, 4.37e-05]    [1.17e-04, 2.28e-05, 4.37e-05]    []  \n",
      "3000      [1.01e-04, 4.83e-06, 1.49e-05]    [6.67e-05, 4.83e-06, 1.49e-05]    []  \n",
      "4000      [8.28e-05, 3.98e-06, 7.70e-06]    [5.30e-05, 3.98e-06, 7.70e-06]    []  \n",
      "5000      [5.54e-05, 1.01e-06, 4.36e-06]    [3.78e-05, 1.01e-06, 4.36e-06]    []  \n",
      "6000      [4.39e-05, 6.96e-07, 3.08e-06]    [3.03e-05, 6.96e-07, 3.08e-06]    []  \n",
      "7000      [4.17e-05, 3.12e-06, 2.98e-06]    [3.25e-05, 3.12e-06, 2.98e-06]    []  \n",
      "8000      [2.92e-05, 4.24e-07, 1.89e-06]    [2.05e-05, 4.24e-07, 1.89e-06]    []  \n",
      "9000      [2.80e-05, 2.08e-06, 2.02e-06]    [2.20e-05, 2.08e-06, 2.02e-06]    []  \n",
      "10000     [2.00e-05, 3.02e-07, 1.16e-06]    [1.45e-05, 3.02e-07, 1.16e-06]    []  \n",
      "11000     [2.82e-05, 3.98e-06, 2.57e-06]    [1.84e-05, 3.98e-06, 2.57e-06]    []  \n",
      "12000     [1.43e-05, 2.19e-07, 7.88e-07]    [1.04e-05, 2.19e-07, 7.88e-07]    []  \n",
      "13000     [3.12e-04, 9.89e-05, 3.64e-05]    [2.53e-04, 9.89e-05, 3.64e-05]    []  \n",
      "14000     [7.01e-05, 1.15e-05, 1.65e-06]    [6.12e-05, 1.15e-05, 1.65e-06]    []  \n",
      "15000     [9.41e-06, 1.92e-07, 4.52e-07]    [6.77e-06, 1.92e-07, 4.52e-07]    []  \n",
      "16000     [8.37e-06, 1.79e-07, 3.90e-07]    [6.01e-06, 1.79e-07, 3.90e-07]    []  \n",
      "17000     [7.54e-06, 1.78e-07, 3.45e-07]    [5.39e-06, 1.78e-07, 3.45e-07]    []  \n",
      "18000     [6.87e-06, 1.74e-07, 3.06e-07]    [4.87e-06, 1.74e-07, 3.06e-07]    []  \n",
      "19000     [6.42e-06, 2.46e-07, 3.13e-07]    [4.66e-06, 2.46e-07, 3.13e-07]    []  \n",
      "20000     [8.23e-06, 8.63e-07, 5.22e-07]    [5.22e-06, 8.63e-07, 5.22e-07]    []  \n",
      "\n",
      "Best model at step 19000:\n",
      "  train loss: 6.98e-06\n",
      "  test loss: 5.22e-06\n",
      "  test metric: []\n",
      "\n",
      "'train' took 143.634160 s\n",
      "\n",
      "Compiling model...\n",
      "'compile' took 0.016476 s\n",
      "\n",
      "Training model...\n",
      "\n",
      "Step      Train loss                        Test loss                         Test metric\n",
      "20000     [8.23e-06, 8.63e-07, 5.22e-07]    [5.22e-06, 8.63e-07, 5.22e-07]    []  \n",
      "20006     [5.87e-06, 1.75e-07, 2.55e-07]    [4.10e-06, 1.75e-07, 2.55e-07]    []  \n",
      "\n",
      "Best model at step 20006:\n",
      "  train loss: 6.30e-06\n",
      "  test loss: 4.53e-06\n",
      "  test metric: []\n",
      "\n",
      "'train' took 2.057389 s\n",
      "\n",
      "Saving loss history to D:\\OpenSource\\python\\deepxde\\examples\\loss.dat ...\n",
      "Saving training data to D:\\OpenSource\\python\\deepxde\\examples\\train.dat ...\n",
      "Saving test data to D:\\OpenSource\\python\\deepxde\\examples\\test.dat ...\n"
     ]
    },
    {
     "data": {
      "image/png": "[encoded data removed]",
      "text/plain": [
       "<Figure size 432x288 with 1 Axes>"
      ]
     },
     "metadata": {
      "needs_background": "light"
     },
     "output_type": "display_data"
    },
    {
     "data": {
      "image/png": "[encoded data removed]",
      "text/plain": [
       "<Figure size 432x288 with 1 Axes>"
      ]
     },
     "metadata": {
      "needs_background": "light"
     },
     "output_type": "display_data"
    },
    {
     "name": "stdout",
     "output_type": "stream",
     "text": [
      "Mean residual: 0.0015693869\n",
      "L2 relative error: 0.000965834558042597\n"
     ]
    }
   ],
   "source": [
    "if __name__ == \"__main__\":\n",
    "\n",
    "    # Problem parameters:\n",
    "    a = 0.4 # Thermal diffusivity\n",
    "    L = 1 # Length of the bar\n",
    "    n = 1 # Frequency of the sinusoidal initial conditions\n",
    "\n",
    "    # Generate a dataset with the exact solution (if you dont have one):\n",
    "    gen_exact_solution()\n",
    "\n",
    "    # Solve the equation:\n",
    "    main()\n",
    "    "
   ]
  }
 ],
 "metadata": {
  "accelerator": "GPU",
  "colab": {
   "collapsed_sections": [],
   "name": "heat_conduction_1d_uniform_bar",
   "provenance": []
  },
  "kernelspec": {
   "display_name": "Python 3",
   "language": "python",
   "name": "python3"
  },
  "language_info": {
   "codemirror_mode": {
    "name": "ipython",
    "version": 3
   },
   "file_extension": ".py",
   "mimetype": "text/x-python",
   "name": "python",
   "nbconvert_exporter": "python",
   "pygments_lexer": "ipython3",
   "version": "3.9.0"
  }
 },
 "nbformat": 4,
 "nbformat_minor": 1
}
