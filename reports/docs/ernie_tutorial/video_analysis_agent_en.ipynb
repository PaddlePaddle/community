{
 "cells": [
  {
   "cell_type": "markdown",
   "metadata": {},
   "source": [
    "# Multi-Agent Collaborative Automated Video Public Opinion Analysis Report Generator\n",
    "\n",
    "### 1. Project Significance and Value\n",
    "\n",
    "#### The Common Challenge of Extracting \"Structured Insights\" from \"Unstructured Video\"\n",
    "\n",
    "In today's digital ecosystem, video has become a core medium for information dissemination, knowledge sharing, and consumer opinion expression. From internal meeting recordings and technical training to external marketing campaigns and user reviews, massive amounts of video content are being created at an unprecedented rate. However, for most organizations, this vast video library remains \"dark data\"—embedded with invaluable value, yet its unstructured nature makes it difficult to efficiently retrieve, analyze, and utilize.\n",
    "\n",
    "Manual video review and analysis is costly, inefficient, and unscalable, constituting a common bottleneck for enterprises in their intelligent transformation.\n",
    "\n",
    "This project aims to address this common challenge. We have built an automated workflow involving multiple AI agents, acting as a tireless team of virtual analysts, capable of:\n",
    "* **Scaling**: Automatically digesting and understanding massive video sources\n",
    "* **Deep Multimodal Understanding**: Simultaneously understand video images and audio content, achieving cross-modal information fusion.\n",
    "* **Intelligent Extraction**: Transform linear, unstructured video information into structured, quantifiable data assets.\n",
    "\n",
    "#### Taking the Automotive Industry as an Example: A High-Value Vertical Application Scenario\n",
    "\n",
    "The above challenges are particularly prominent in industries with complex products, fierce competition, and a high reliance on market feedback. **To demonstrate the power of this system, we will focus on a typical high-value application scenario: market sentiment analysis for new cars. **\n",
    "\n",
    "When an automaker launches a new car, its success or failure is often evident in the initial \"golden 72 hours.\" The true voice of the market is scattered across hundreds of in-depth review videos by KOLs (Key Opinion Leaders) on platforms like YouTube and Bilibili. Automotive executives urgently need to know:\n",
    "* What **core features** of our new car are the market most concerned about?\n",
    "* Is the mainstream opinion on these features **positive or negative**? * Which **competitors** are people comparing our car to in reviews?\n",
    "* What are our true **strengths and weaknesses**?\n",
    "\n",
    "This Jupyter Notebook will fully and end-to-end implement an intelligent agent system to answer these questions. We will demonstrate how this system automatically processes multiple review videos of the same new car and, through a multi-stage collaborative agent-based approach called \"exploration-analysis-strategy,\" ultimately generates a **professional-grade Markdown-based public opinion insights report** containing quantitative data and deep insights.\n",
    "\n",
    "This is not just a technical demonstration; it is a microcosm of the future business intelligence work model: applying AI agents to specific verticals to gain decision-making advantages amidst massive amounts of information."
   ]
  },
  {
   "cell_type": "markdown",
   "metadata": {},
   "source": [
    "### 2. Environment preparation: Install all necessary libraries"
   ]
  },
  {
   "cell_type": "code",
   "execution_count": 13,
   "metadata": {
    "execution": {
     "iopub.execute_input": "2025-08-21T10:33:47.372575Z",
     "iopub.status.busy": "2025-08-21T10:33:47.372328Z",
     "iopub.status.idle": "2025-08-21T10:33:48.851270Z",
     "shell.execute_reply": "2025-08-21T10:33:48.850566Z",
     "shell.execute_reply.started": "2025-08-21T10:33:47.372556Z"
    },
    "scrolled": true,
    "tags": []
   },
   "outputs": [
    {
     "name": "stdout",
     "output_type": "stream",
     "text": [
      "Looking in indexes: https://pypi.tuna.tsinghua.edu.cn/simple/\n",
      "Requirement already satisfied: agno in /Users/lizhijun/miniconda3/envs/agent/lib/python3.11/site-packages (1.7.2)\n",
      "Requirement already satisfied: baidu-aip in /Users/lizhijun/miniconda3/envs/agent/lib/python3.11/site-packages (4.16.13)\n",
      "Requirement already satisfied: openai in /Users/lizhijun/miniconda3/envs/agent/lib/python3.11/site-packages (1.95.1)\n",
      "Requirement already satisfied: opencv-python-headless in /Users/lizhijun/miniconda3/envs/agent/lib/python3.11/site-packages (4.12.0.88)\n",
      "Requirement already satisfied: moviepy in /Users/lizhijun/miniconda3/envs/agent/lib/python3.11/site-packages (1.0.2)\n",
      "Requirement already satisfied: pydub in /Users/lizhijun/miniconda3/envs/agent/lib/python3.11/site-packages (0.25.1)\n",
      "Requirement already satisfied: yt-dlp in /Users/lizhijun/miniconda3/envs/agent/lib/python3.11/site-packages (2025.8.20)\n",
      "Requirement already satisfied: docstring-parser in /Users/lizhijun/miniconda3/envs/agent/lib/python3.11/site-packages (from agno) (0.16)\n",
      "Requirement already satisfied: gitpython in /Users/lizhijun/miniconda3/envs/agent/lib/python3.11/site-packages (from agno) (3.1.44)\n",
      "Requirement already satisfied: httpx in /Users/lizhijun/miniconda3/envs/agent/lib/python3.11/site-packages (from agno) (0.28.1)\n",
      "Requirement already satisfied: pydantic-settings in /Users/lizhijun/miniconda3/envs/agent/lib/python3.11/site-packages (from agno) (2.10.1)\n",
      "Requirement already satisfied: pydantic in /Users/lizhijun/miniconda3/envs/agent/lib/python3.11/site-packages (from agno) (2.11.7)\n",
      "Requirement already satisfied: python-dotenv in /Users/lizhijun/miniconda3/envs/agent/lib/python3.11/site-packages (from agno) (1.1.1)\n",
      "Requirement already satisfied: python-multipart in /Users/lizhijun/miniconda3/envs/agent/lib/python3.11/site-packages (from agno) (0.0.20)\n",
      "Requirement already satisfied: pyyaml in /Users/lizhijun/miniconda3/envs/agent/lib/python3.11/site-packages (from agno) (6.0.2)\n",
      "Requirement already satisfied: rich in /Users/lizhijun/miniconda3/envs/agent/lib/python3.11/site-packages (from agno) (14.0.0)\n",
      "Requirement already satisfied: tomli in /Users/lizhijun/miniconda3/envs/agent/lib/python3.11/site-packages (from agno) (2.2.1)\n",
      "Requirement already satisfied: typer in /Users/lizhijun/miniconda3/envs/agent/lib/python3.11/site-packages (from agno) (0.16.0)\n",
      "Requirement already satisfied: typing-extensions in /Users/lizhijun/miniconda3/envs/agent/lib/python3.11/site-packages (from agno) (4.14.1)\n",
      "Requirement already satisfied: requests in /Users/lizhijun/miniconda3/envs/agent/lib/python3.11/site-packages (from baidu-aip) (2.32.4)\n",
      "Requirement already satisfied: anyio<5,>=3.5.0 in /Users/lizhijun/miniconda3/envs/agent/lib/python3.11/site-packages (from openai) (4.9.0)\n",
      "Requirement already satisfied: distro<2,>=1.7.0 in /Users/lizhijun/miniconda3/envs/agent/lib/python3.11/site-packages (from openai) (1.9.0)\n",
      "Requirement already satisfied: jiter<1,>=0.4.0 in /Users/lizhijun/miniconda3/envs/agent/lib/python3.11/site-packages (from openai) (0.10.0)\n",
      "Requirement already satisfied: sniffio in /Users/lizhijun/miniconda3/envs/agent/lib/python3.11/site-packages (from openai) (1.3.1)\n",
      "Requirement already satisfied: tqdm>4 in /Users/lizhijun/miniconda3/envs/agent/lib/python3.11/site-packages (from openai) (4.67.1)\n",
      "Requirement already satisfied: idna>=2.8 in /Users/lizhijun/miniconda3/envs/agent/lib/python3.11/site-packages (from anyio<5,>=3.5.0->openai) (3.10)\n",
      "Requirement already satisfied: certifi in /Users/lizhijun/miniconda3/envs/agent/lib/python3.11/site-packages (from httpx->agno) (2025.7.14)\n",
      "Requirement already satisfied: httpcore==1.* in /Users/lizhijun/miniconda3/envs/agent/lib/python3.11/site-packages (from httpx->agno) (1.0.9)\n",
      "Requirement already satisfied: h11>=0.16 in /Users/lizhijun/miniconda3/envs/agent/lib/python3.11/site-packages (from httpcore==1.*->httpx->agno) (0.16.0)\n",
      "Requirement already satisfied: annotated-types>=0.6.0 in /Users/lizhijun/miniconda3/envs/agent/lib/python3.11/site-packages (from pydantic->agno) (0.7.0)\n",
      "Requirement already satisfied: pydantic-core==2.33.2 in /Users/lizhijun/miniconda3/envs/agent/lib/python3.11/site-packages (from pydantic->agno) (2.33.2)\n",
      "Requirement already satisfied: typing-inspection>=0.4.0 in /Users/lizhijun/miniconda3/envs/agent/lib/python3.11/site-packages (from pydantic->agno) (0.4.1)\n",
      "Requirement already satisfied: numpy<2.3.0,>=2 in /Users/lizhijun/miniconda3/envs/agent/lib/python3.11/site-packages (from opencv-python-headless) (2.2.6)\n",
      "Requirement already satisfied: decorator<5.0,>=4.0.2 in /Users/lizhijun/miniconda3/envs/agent/lib/python3.11/site-packages (from moviepy) (4.4.2)\n",
      "Requirement already satisfied: imageio<3.0,>=2.5 in /Users/lizhijun/miniconda3/envs/agent/lib/python3.11/site-packages (from moviepy) (2.37.0)\n",
      "Requirement already satisfied: imageio_ffmpeg>=0.2.0 in /Users/lizhijun/miniconda3/envs/agent/lib/python3.11/site-packages (from moviepy) (0.6.0)\n",
      "Requirement already satisfied: proglog<=1.0.0 in /Users/lizhijun/miniconda3/envs/agent/lib/python3.11/site-packages (from moviepy) (0.1.12)\n",
      "Requirement already satisfied: pillow>=8.3.2 in /Users/lizhijun/miniconda3/envs/agent/lib/python3.11/site-packages (from imageio<3.0,>=2.5->moviepy) (11.3.0)\n",
      "Requirement already satisfied: charset_normalizer<4,>=2 in /Users/lizhijun/miniconda3/envs/agent/lib/python3.11/site-packages (from requests->baidu-aip) (3.4.2)\n",
      "Requirement already satisfied: urllib3<3,>=1.21.1 in /Users/lizhijun/miniconda3/envs/agent/lib/python3.11/site-packages (from requests->baidu-aip) (2.5.0)\n",
      "Requirement already satisfied: gitdb<5,>=4.0.1 in /Users/lizhijun/miniconda3/envs/agent/lib/python3.11/site-packages (from gitpython->agno) (4.0.12)\n",
      "Requirement already satisfied: smmap<6,>=3.0.1 in /Users/lizhijun/miniconda3/envs/agent/lib/python3.11/site-packages (from gitdb<5,>=4.0.1->gitpython->agno) (5.0.2)\n",
      "Requirement already satisfied: markdown-it-py>=2.2.0 in /Users/lizhijun/miniconda3/envs/agent/lib/python3.11/site-packages (from rich->agno) (3.0.0)\n",
      "Requirement already satisfied: pygments<3.0.0,>=2.13.0 in /Users/lizhijun/miniconda3/envs/agent/lib/python3.11/site-packages (from rich->agno) (2.19.2)\n",
      "Requirement already satisfied: mdurl~=0.1 in /Users/lizhijun/miniconda3/envs/agent/lib/python3.11/site-packages (from markdown-it-py>=2.2.0->rich->agno) (0.1.2)\n",
      "Requirement already satisfied: click>=8.0.0 in /Users/lizhijun/miniconda3/envs/agent/lib/python3.11/site-packages (from typer->agno) (8.2.1)\n",
      "Requirement already satisfied: shellingham>=1.3.0 in /Users/lizhijun/miniconda3/envs/agent/lib/python3.11/site-packages (from typer->agno) (1.5.4)\n"
     ]
    }
   ],
   "source": [
    "# Run this cell to install all dependencies\n",
    "!pip install agno baidu-aip openai opencv-python-headless moviepy pydub yt-dlp"
   ]
  },
  {
   "cell_type": "markdown",
   "metadata": {},
   "source": [
    "### 3. Import core libraries"
   ]
  },
  {
   "cell_type": "code",
   "execution_count": 14,
   "metadata": {
    "execution": {
     "iopub.execute_input": "2025-08-21T10:35:59.754531Z",
     "iopub.status.busy": "2025-08-21T10:35:59.754304Z",
     "iopub.status.idle": "2025-08-21T10:36:00.832477Z",
     "shell.execute_reply": "2025-08-21T10:36:00.831647Z",
     "shell.execute_reply.started": "2025-08-21T10:35:59.754511Z"
    },
    "scrolled": true,
    "tags": []
   },
   "outputs": [],
   "source": [
    "import os\n",
    "import json\n",
    "import base64\n",
    "import re\n",
    "import logging\n",
    "from typing import Dict, List, Iterator\n",
    "from concurrent.futures import ThreadPoolExecutor, as_completed\n",
    "\n",
    "# Framework and core tools\n",
    "from agno.agent import Agent, RunResponse\n",
    "from agno.workflow import Workflow\n",
    "from agno.models.openai import OpenAIChat\n",
    "from aip import AipSpeech\n",
    "import cv2\n",
    "from moviepy.editor import VideoFileClip\n",
    "from pydub import AudioSegment\n",
    "import yt_dlp\n",
    "from openai import OpenAI\n",
    "from tqdm.notebook import tqdm\n",
    "from IPython.display import display, Markdown"
   ]
  },
  {
   "cell_type": "markdown",
   "metadata": {},
   "source": [
    "### 4. 🚀 Configuration Center\n",
    "Baidu Smart Cloud voice recognition configuration requires login/application. Click on the Wenxin multimodal model on the Xinghe Community homepage to receive it.\n",
    "![](https://ai-studio-static-online.cdn.bcebos.com/7ab2bfcaf9b74632a13c0848e46afe9199b64784c2cf40bcbc1fd4829be1de6a)\n",
    "![](https://ai-studio-static-online.cdn.bcebos.com/542365f4ddcd4c469adaab83f8050b5793bb07767b3f4b1a82ae4e7951a5cac9)\n"
   ]
  },
  {
   "cell_type": "code",
   "execution_count": null,
   "metadata": {
    "scrolled": true
   },
   "outputs": [],
   "source": [
    "class Config:\n",
    "    # --- Baidu Smart Cloud API Configuration ---\n",
    "    BAIDU_APP_ID = \"YOUR_BAIDU_APP_ID\"\n",
    "    BAIDU_API_KEY = \"YOUR_BAIDU_API_KEY\"\n",
    "    BAIDU_SECRET_KEY = \"YOUR_BAIDU_SECRET_KEY\"\n",
    "\n",
    "    # --- Wenxin Multimodal Large Model API Configuration ---\n",
    "    # ERNIE_MODEL_NAME can be ernie-4.5-turbo-vl or ernie-4.5-vl-28b-a3b\n",
    "    ERNIE_API_KEY = \"YOUR_ERNIE_API_KEY\"\n",
    "    ERNIE_BASE_URL = \"https://aistudio.baidu.com/llm/lmapi/v3\" \n",
    "    ERNIE_MODEL_NAME = \"ernie-4.5-turbo-vl\" \n",
    "\n",
    "\n",
    "    # --- Video source configuration (please provide one or more YouTube review video links) ---\n",
    "    VIDEO_URLS = [\n",
    "        \"https://www.youtube.com/watch?v=l-SSk-fuNl8\", \n",
    "        \"https://www.youtube.com/watch?v=YJ_Qs-zziMc\"\n",
    "    ]\n",
    "    \n",
    "    # --- Working directory and analysis parameters ---\n",
    "    WORKING_DIRECTORY = \"./auto_market_research\"\n",
    "    CHUNK_DURATION_SECONDS = 30\n",
    "    LANGUAGE_MAP = {\"Chinese\": 1537, \"English\": 1737, \"Cantonese\": 1637}\n",
    "    SELECTED_LANGUAGE = \"Chinese\"\n",
    "    \n",
    "    # --- Concurrency and Retry ---\n",
    "    MAX_CONCURRENCY = 2\n",
    "    MAX_RETRIES = 3\n",
    "\n",
    "# --- Log and environment settings ---\n",
    "os.makedirs(Config.WORKING_DIRECTORY, exist_ok=True)\n",
    "logging.basicConfig(level=logging.INFO, format='%(asctime)s - %(name)s - %(levelname)s - %(message)s')\n",
    "logger = logging.getLogger(\"VideoAnalysisSystem\")"
   ]
  },
  {
   "cell_type": "markdown",
   "metadata": {},
   "source": [
    "### 5. Auxiliary Tools and Preprocessing Module\n",
    "Contains all low-level functions for preparing data for the Agent workflow. It is a deterministic data processing pipeline responsible for converting video URLs into structured analysis logs."
   ]
  },
  {
   "cell_type": "code",
   "execution_count": 16,
   "metadata": {
    "scrolled": true
   },
   "outputs": [],
   "source": [
    "def extract_json_from_response(text: str) -> dict or list:\n",
    "    \"\"\"Robustly extracts a JSON object or list from the LLM's response text.\"\"\"\n",
    "    if not text or not isinstance(text, str): return {}\n",
    "    match = re.search(r'```(?:json)?\\s*(\\{.*\\s*\\}|\\[.*\\s*\\])\\s*```', text, re.DOTALL)\n",
    "    if match: json_str = match.group(1)\n",
    "    else:\n",
    "        match = re.search(r'(\\{.*\\s*\\}|\\[.*\\s*\\])', text, re.DOTALL)\n",
    "        if not match: return {}\n",
    "        json_str = match.group(0)\n",
    "    try:\n",
    "        return json.loads(json_str)\n",
    "    except json.JSONDecodeError: return {}\n",
    "\n",
    "def download_video_with_yt_dlp(video_url: str, output_dir: str, video_id: str) -> str:\n",
    "    \"\"\"Downloads a video using yt-dlp, limiting the resolution to 720p to speed up processing.\"\"\"\n",
    "    full_video_path = os.path.join(output_dir, f\"{video_id}.mp4\")\n",
    "    ydl_opts = {\n",
    "        'format': 'bestvideo[ext=mp4][height<=720]+bestaudio[ext=m4a]/best[ext=mp4][height<=720]/best',\n",
    "        'outtmpl': full_video_path, 'quiet': True, 'noplaylist': True, 'retries': 3,\n",
    "    }\n",
    "    try:\n",
    "        with yt_dlp.YoutubeDL(ydl_opts) as ydl:\n",
    "            ydl.download([video_url])\n",
    "        return full_video_path if os.path.exists(full_video_path) else None\n",
    "    except Exception as e:\n",
    "        logger.error(f\"yt-dlp download failed for {video_url}: {e}\")\n",
    "        return None\n",
    "\n",
    "def run_audio_transcription(video_path: str, config: Config) -> List[Dict]:\n",
    "    \"\"\"Extracts audio from a video and performs transcription.\"\"\"\n",
    "    temp_audio_path = os.path.join(config.WORKING_DIRECTORY, f\"temp_audio_{os.path.basename(video_path)}.wav\")\n",
    "    try:\n",
    "        with VideoFileClip(video_path) as video:\n",
    "            video.audio.write_audiofile(temp_audio_path, codec='pcm_s16le', fps=16000, logger=None)\n",
    "        full_audio = AudioSegment.from_wav(temp_audio_path).set_channels(1)\n",
    "        asr_client = AipSpeech(config.BAIDU_APP_ID, config.BAIDU_API_KEY, config.BAIDU_SECRET_KEY)\n",
    "        dev_pid = config.LANGUAGE_MAP.get(config.SELECTED_LANGUAGE, 1737) # Default to English\n",
    "        tasks = [{\"start_time\": i / 1000.0, \"data\": full_audio[i:i + config.CHUNK_DURATION_SECONDS * 1000].raw_data}\n",
    "                 for i in range(0, len(full_audio), config.CHUNK_DURATION_SECONDS * 1000)\n",
    "                 if len(full_audio[i:i + config.CHUNK_DURATION_SECONDS * 1000].raw_data) > 1000]\n",
    "        transcripts = []\n",
    "        with ThreadPoolExecutor(max_workers=config.MAX_CONCURRENCY) as executor:\n",
    "            future_to_task = {executor.submit(asr_client.asr, task[\"data\"], 'pcm', 16000, {'dev_pid': dev_pid}): task for task in tasks}\n",
    "            for future in tqdm(as_completed(future_to_task), total=len(tasks), desc=f\"Audio Transcription ({os.path.basename(video_path)})\"):\n",
    "                result = future.result()\n",
    "                if result and result.get(\"err_no\") == 0 and result.get(\"result\"):\n",
    "                    task_info = future_to_task[future]\n",
    "                    transcripts.append({\"start_time\": task_info[\"start_time\"], \"end_time\": task_info[\"start_time\"] + config.CHUNK_DURATION_SECONDS, \"text\": \"\".join(result[\"result\"])})\n",
    "        return sorted(transcripts, key=lambda x: x['start_time'])\n",
    "    finally:\n",
    "        if os.path.exists(temp_audio_path): os.remove(temp_audio_path)\n",
    "\n",
    "def run_vision_analysis(video_path: str, transcripts: List[Dict], config: Config) -> List[Dict]:\n",
    "    \"\"\"Analyzes video frames in chunks.\"\"\"\n",
    "    vision_client = OpenAI(api_key=config.ERNIE_API_KEY, base_url=config.ERNIE_BASE_URL)\n",
    "    cap = cv2.VideoCapture(video_path)\n",
    "    duration = cap.get(cv2.CAP_PROP_FRAME_COUNT) / cap.get(cv2.CAP_PROP_FPS)\n",
    "    tasks = []\n",
    "    for start_s in range(0, int(duration), config.CHUNK_DURATION_SECONDS):\n",
    "        end_s = min(start_s + config.CHUNK_DURATION_SECONDS, duration)\n",
    "        frames_b64 = []\n",
    "        for i in range(int(end_s - start_s)): # Sample one frame per second\n",
    "            cap.set(cv2.CAP_PROP_POS_MSEC, (start_s + i) * 1000)\n",
    "            ret, frame = cap.read()\n",
    "            if ret:\n",
    "                _, buffer = cv2.imencode('.jpg', frame, [int(cv2.IMWRITE_JPEG_QUALITY), 70])\n",
    "                frames_b64.append(base64.b64encode(buffer).decode('utf-8'))\n",
    "        if frames_b64:\n",
    "            context_transcript = \" \".join([t['text'] for t in transcripts if max(start_s, t['start_time']) < min(end_s, t['end_time'])])\n",
    "            tasks.append({\"start_time\": start_s, \"end_time\": end_s, \"frames\": frames_b64, \"transcript\": context_transcript})\n",
    "    cap.release()\n",
    "    vision_analysis = []\n",
    "    with ThreadPoolExecutor(max_workers=config.MAX_CONCURRENCY) as executor:\n",
    "        future_to_task = {}\n",
    "        for task in tasks:\n",
    "            prompt = f\"You are a video analysis AI. Based on the audio content \\\"{task['transcript']}\\\" and the following image frames, describe in detail the video scene and core events from {int(task['start_time'])} seconds to {int(task['end_time'])} seconds.\"\n",
    "            content_list = [{\"type\": \"text\", \"text\": prompt}] + [{\"type\": \"image_url\", \"image_url\": {\"url\": f\"data:image/jpeg;base64,{f}\"}} for f in task['frames']]\n",
    "            messages = [{\"role\": \"user\", \"content\": content_list}]\n",
    "            future = executor.submit(vision_client.chat.completions.create, model=config.ERNIE_MODEL_NAME, messages=messages, temperature=0.1, max_tokens=2048)\n",
    "            future_to_task[future] = task\n",
    "        for future in tqdm(as_completed(future_to_task), total=len(tasks), desc=f\"Visual Analysis ({os.path.basename(video_path)})\"):\n",
    "            response = future.result()\n",
    "            task_info = future_to_task[future]\n",
    "            vision_analysis.append({\"start_time\": task_info['start_time'], \"end_time\": task_info['end_time'], \"description\": response.choices[0].message.content.strip()})\n",
    "    return sorted(vision_analysis, key=lambda x: x['start_time'])\n",
    "\n",
    "def batch_preprocess_videos(config: Config) -> Dict[str, str]:\n",
    "    \"\"\"Batch preprocesses videos with an improved caching mechanism.\"\"\"\n",
    "    video_log_paths = {}\n",
    "    for url in config.VIDEO_URLS:\n",
    "        try:\n",
    "            video_id = url.split(\"=\")[-1].split(\"&\")[0]\n",
    "            log_path = os.path.join(config.WORKING_DIRECTORY, f\"log_{video_id}.json\")\n",
    "            \n",
    "            if os.path.exists(log_path):\n",
    "                logger.info(f\"✅ [Cache] Found processed log, skipping entire process for: {video_id}\")\n",
    "                video_log_paths[video_id] = log_path\n",
    "                continue\n",
    "            \n",
    "            logger.info(f\"--- Starting preprocessing for new video: {video_id} ---\")\n",
    "\n",
    "            video_path = os.path.join(config.WORKING_DIRECTORY, f\"{video_id}.mp4\")\n",
    "            if os.path.exists(video_path):\n",
    "                logger.info(f\"✅ [Cache] Found local video file, skipping download: {video_path}\")\n",
    "            else:\n",
    "                logger.info(f\"Local video file not found. Starting download for {video_id}...\")\n",
    "                downloaded_path = download_video_with_yt_dlp(url, config.WORKING_DIRECTORY, video_id)\n",
    "                if not downloaded_path:\n",
    "                    logger.warning(f\"Download failed for video {video_id}, skipping.\")\n",
    "                    continue\n",
    "                video_path = downloaded_path\n",
    "\n",
    "            transcripts = run_audio_transcription(video_path, config)\n",
    "            vision_analysis = run_vision_analysis(video_path, transcripts, config)\n",
    "            analysis_log = [{\"start_time\": v['start_time'], \"end_time\": v['end_time'], \"transcript\": \" \".join([t['text'] for t in transcripts if max(v['start_time'], t['start_time']) < min(v['end_time'], t['end_time'])]), \"vision_description\": v['description']} for v in vision_analysis]\n",
    "            \n",
    "            with open(log_path, 'w', encoding='utf-8') as f:\n",
    "                json.dump(analysis_log, f, indent=2, ensure_ascii=False)\n",
    "            video_log_paths[video_id] = log_path\n",
    "            logger.info(f\"✅ Video {video_id} preprocessing complete -> {log_path}\")\n",
    "            \n",
    "        except Exception as e:\n",
    "            logger.error(f\"❌ An unexpected error occurred while processing video {url}: {e}\", exc_info=True)\n",
    "            continue\n",
    "    return video_log_paths"
   ]
  },
  {
   "cell_type": "markdown",
   "metadata": {},
   "source": [
    "### 6. 🤖 Agent Workflow Definition\n",
    "This is the core brain of the project, defining the three agent roles (Explorer, Analyst, Strategist) and the agno workflow that drives them."
   ]
  },
  {
   "cell_type": "code",
   "execution_count": 17,
   "metadata": {
    "scrolled": true
   },
   "outputs": [],
   "source": [
    "def create_llm(config: Config, temperature: float = 0.2):\n",
    "    \"\"\"Creates a configured LLM instance\"\"\"\n",
    "    return OpenAIChat(\n",
    "        id=config.ERNIE_MODEL_NAME, api_key=config.ERNIE_API_KEY, base_url=config.ERNIE_BASE_URL,\n",
    "        temperature=temperature\n",
    "    )\n",
    "\n",
    "class AutoMarketResearchWorkflow(Workflow):\n",
    "    def __init__(self, config: Config, video_log_paths: Dict[str, str]):\n",
    "        super().__init__()\n",
    "        self.config = config\n",
    "        self.video_logs = {vid: json.load(open(path, 'r', encoding='utf-8')) for vid, path in video_log_paths.items()}\n",
    "\n",
    "    def run(self) -> Iterator[RunResponse]:\n",
    "        # --- Phase 1: Explorer Agent (Automatically discovering key dimensions) ---\n",
    "        yield RunResponse(content=\"--- **Phase 1: Explorer Agent** is automatically discovering core analysis dimensions ---\\n\")\n",
    "        explorer_agent = Agent(\n",
    "            model=create_llm(self.config, temperature=0.0),\n",
    "            instructions=[\"You are a market insight expert. Your task is to analyze logs from multiple videos to automatically summarize the most frequently discussed [Product Core Features] and explicitly mentioned [Competitors]. Your output must be a correctly formatted JSON object containing two lists: `key_features` and `competitors`.\"]\n",
    "        )\n",
    "        all_logs_text = json.dumps(self.video_logs, ensure_ascii=False, indent=2)\n",
    "        response = explorer_agent.run(f\"Please analyze the following logs from multiple videos and summarize the core features and competitors.\\n```json\\n{all_logs_text}\\n```\")\n",
    "        discovered_dims = extract_json_from_response(response.content)\n",
    "        self.session_state['key_features'] = discovered_dims.get('key_features', [])\n",
    "        self.session_state['competitors'] = discovered_dims.get('competitors', [])\n",
    "        yield RunResponse(content=f\"✅ **Exploration Complete!**\\n   - **Features Discovered**: {self.session_state['key_features']}\\n   - **Competitors Discovered**: {self.session_state['competitors']}\\n\")\n",
    "\n",
    "        # --- Phase 2: Analyst Agent (Tagging based on discovered dimensions) ---\n",
    "        yield RunResponse(content=\"\\n--- **Phase 2: Analyst Agent** is performing focused analysis and sentiment tagging on the videos ---\\n\")\n",
    "        analyst_agent = Agent(\n",
    "            model=create_llm(self.config),\n",
    "            instructions=[\"You are a meticulous analyst. Your task is to carefully read a video log, extract all viewpoints related to the specified [Analysis Dimensions], and label their sentiment. Your output must be a correctly formatted JSON list, where each object contains `dimension`, `sentiment` ('positive', 'negative', 'neutral'), `quote`, and `timestamp`.\"]\n",
    "        )\n",
    "        tagged_reports = {}\n",
    "        # Ensure that analysis dimensions are strings, as the AI will produce strings\n",
    "        analysis_dims_str = [item['feature'] if isinstance(item, dict) else item for item in self.session_state['key_features']]\n",
    "        analysis_dims = analysis_dims_str + self.session_state['competitors']\n",
    "        \n",
    "        for video_id, log_data in self.video_logs.items():\n",
    "            prompt = f\"Analyze the following video log and extract all viewpoints regarding the [Analysis Dimensions: {analysis_dims}].\\nLog:\\n```json\\n{json.dumps(log_data, ensure_ascii=False, indent=2)}\\n```\"\n",
    "            response = analyst_agent.run(prompt)\n",
    "            tagged_reports[video_id] = extract_json_from_response(response.content)\n",
    "        self.session_state['tagged_reports'] = tagged_reports\n",
    "        yield RunResponse(content=f\"✅ **Viewpoint Tagging Complete** for all videos.\\n\")\n",
    "        \n",
    "        # --- Phase 3: Strategist Agent (Integrating data and writing the report) ---\n",
    "        yield RunResponse(content=\"\\n--- **Phase 3: Market Strategist Agent** is drafting the final insight report ---\\n\")\n",
    "        consolidated_db = {}\n",
    "        for video_id, report in tagged_reports.items():\n",
    "            if isinstance(report, list):\n",
    "                for item in report:\n",
    "                    if isinstance(item, dict) and 'dimension' in item:\n",
    "                        dim = item['dimension']\n",
    "                        if dim not in consolidated_db: consolidated_db[dim] = []\n",
    "                        consolidated_db[dim].append({**item, \"source_video\": video_id})\n",
    "        strategist_agent = Agent(\n",
    "            model=create_llm(self.config, temperature=0.4),\n",
    "            instructions=[\"You are a senior market strategist. Your task is to write a professional Markdown market insight report for senior management, based on an aggregated public opinion database. The report must include: 1. Statistical analysis of positive/negative sentiment for core features. 2. A summary of major pros and cons (with direct quotes). 3. Competitive analysis. 4. Conclusions and recommendations.\"]\n",
    "        )\n",
    "        prompt = f\"This is the aggregated public opinion data for a new car. Please write an in-depth Markdown insight report based on this data.\\nAggregated Public Opinion Database:\\n```json\\n{json.dumps(consolidated_db, ensure_ascii=False, indent=2)}\\n```\"\n",
    "        response = strategist_agent.run(prompt)\n",
    "        final_report = response.content\n",
    "        self.session_state['final_report'] = final_report\n",
    "        \n",
    "        yield RunResponse(content=\"\\n--- **Workflow Successfully Completed** ---\")\n",
    "        yield RunResponse(content=\"\\n\\n\" + \"=\"*80 + \"\\n            Final Public Opinion Insight Report\\n\" + \"=\"*80 + \"\\n\\n\")\n",
    "        yield RunResponse(content=final_report)"
   ]
  },
  {
   "cell_type": "markdown",
   "metadata": {},
   "source": [
    "### 7. 🎬 Main Program Execution\n",
    "Running this cell will start the entire process and eventually render the complete Markdown report below."
   ]
  },
  {
   "cell_type": "code",
   "execution_count": 18,
   "metadata": {
    "scrolled": true
   },
   "outputs": [
    {
     "name": "stderr",
     "output_type": "stream",
     "text": [
      "2025-08-22 10:27:00,340 - VideoAnalysisSystem - INFO - >>> Starting batch video preprocessing...\n",
      "2025-08-22 10:27:00,344 - VideoAnalysisSystem - INFO - --- Starting preprocessing for new video: l-SSk-fuNl8 ---\n",
      "2025-08-22 10:27:00,347 - VideoAnalysisSystem - INFO - ✅ [Cache] Found local video file, skipping download: ./auto_market_research/l-SSk-fuNl8.mp4\n"
     ]
    },
    {
     "data": {
      "application/vnd.jupyter.widget-view+json": {
       "model_id": "55a68b1df254450fb423d72817490ec4",
       "version_major": 2,
       "version_minor": 0
      },
      "text/plain": [
       "Audio Transcription (l-SSk-fuNl8.mp4):   0%|          | 0/8 [00:00<?, ?it/s]"
      ]
     },
     "metadata": {},
     "output_type": "display_data"
    },
    {
     "data": {
      "application/vnd.jupyter.widget-view+json": {
       "model_id": "41f02add9a634e3ba92080353ff85650",
       "version_major": 2,
       "version_minor": 0
      },
      "text/plain": [
       "Visual Analysis (l-SSk-fuNl8.mp4):   0%|          | 0/8 [00:00<?, ?it/s]"
      ]
     },
     "metadata": {},
     "output_type": "display_data"
    },
    {
     "name": "stderr",
     "output_type": "stream",
     "text": [
      "2025-08-22 10:27:45,159 - httpx - INFO - HTTP Request: POST https://aistudio.baidu.com/llm/lmapi/v3/chat/completions \"HTTP/1.1 200 OK\"\n",
      "2025-08-22 10:27:46,145 - httpx - INFO - HTTP Request: POST https://aistudio.baidu.com/llm/lmapi/v3/chat/completions \"HTTP/1.1 200 OK\"\n",
      "2025-08-22 10:28:06,992 - httpx - INFO - HTTP Request: POST https://aistudio.baidu.com/llm/lmapi/v3/chat/completions \"HTTP/1.1 200 OK\"\n",
      "2025-08-22 10:28:08,690 - httpx - INFO - HTTP Request: POST https://aistudio.baidu.com/llm/lmapi/v3/chat/completions \"HTTP/1.1 200 OK\"\n",
      "2025-08-22 10:28:29,602 - httpx - INFO - HTTP Request: POST https://aistudio.baidu.com/llm/lmapi/v3/chat/completions \"HTTP/1.1 200 OK\"\n",
      "2025-08-22 10:28:30,211 - httpx - INFO - HTTP Request: POST https://aistudio.baidu.com/llm/lmapi/v3/chat/completions \"HTTP/1.1 200 OK\"\n",
      "2025-08-22 10:28:39,607 - httpx - INFO - HTTP Request: POST https://aistudio.baidu.com/llm/lmapi/v3/chat/completions \"HTTP/1.1 200 OK\"\n",
      "2025-08-22 10:28:51,523 - httpx - INFO - HTTP Request: POST https://aistudio.baidu.com/llm/lmapi/v3/chat/completions \"HTTP/1.1 200 OK\"\n",
      "2025-08-22 10:28:51,540 - VideoAnalysisSystem - INFO - ✅ Video l-SSk-fuNl8 preprocessing complete -> ./auto_market_research/log_l-SSk-fuNl8.json\n",
      "2025-08-22 10:28:51,541 - VideoAnalysisSystem - INFO - --- Starting preprocessing for new video: YJ_Qs-zziMc ---\n",
      "2025-08-22 10:28:51,541 - VideoAnalysisSystem - INFO - ✅ [Cache] Found local video file, skipping download: ./auto_market_research/YJ_Qs-zziMc.mp4\n"
     ]
    },
    {
     "data": {
      "application/vnd.jupyter.widget-view+json": {
       "model_id": "f2e48081fdff47228c8448248f3718b7",
       "version_major": 2,
       "version_minor": 0
      },
      "text/plain": [
       "Audio Transcription (YJ_Qs-zziMc.mp4):   0%|          | 0/10 [00:00<?, ?it/s]"
      ]
     },
     "metadata": {},
     "output_type": "display_data"
    },
    {
     "data": {
      "application/vnd.jupyter.widget-view+json": {
       "model_id": "72d17809697e479997cf807680cdf15c",
       "version_major": 2,
       "version_minor": 0
      },
      "text/plain": [
       "Visual Analysis (YJ_Qs-zziMc.mp4):   0%|          | 0/10 [00:00<?, ?it/s]"
      ]
     },
     "metadata": {},
     "output_type": "display_data"
    },
    {
     "name": "stderr",
     "output_type": "stream",
     "text": [
      "2025-08-22 10:29:30,264 - httpx - INFO - HTTP Request: POST https://aistudio.baidu.com/llm/lmapi/v3/chat/completions \"HTTP/1.1 200 OK\"\n",
      "2025-08-22 10:29:31,108 - httpx - INFO - HTTP Request: POST https://aistudio.baidu.com/llm/lmapi/v3/chat/completions \"HTTP/1.1 200 OK\"\n",
      "2025-08-22 10:29:49,194 - httpx - INFO - HTTP Request: POST https://aistudio.baidu.com/llm/lmapi/v3/chat/completions \"HTTP/1.1 200 OK\"\n",
      "2025-08-22 10:29:54,479 - httpx - INFO - HTTP Request: POST https://aistudio.baidu.com/llm/lmapi/v3/chat/completions \"HTTP/1.1 200 OK\"\n",
      "2025-08-22 10:30:08,411 - httpx - INFO - HTTP Request: POST https://aistudio.baidu.com/llm/lmapi/v3/chat/completions \"HTTP/1.1 200 OK\"\n",
      "2025-08-22 10:30:11,737 - httpx - INFO - HTTP Request: POST https://aistudio.baidu.com/llm/lmapi/v3/chat/completions \"HTTP/1.1 200 OK\"\n",
      "2025-08-22 10:30:14,670 - httpx - INFO - HTTP Request: POST https://aistudio.baidu.com/llm/lmapi/v3/chat/completions \"HTTP/1.1 429 Too Many Requests\"\n",
      "2025-08-22 10:30:14,672 - openai._base_client - INFO - Retrying request to /chat/completions in 0.410077 seconds\n",
      "2025-08-22 10:30:25,178 - httpx - INFO - HTTP Request: POST https://aistudio.baidu.com/llm/lmapi/v3/chat/completions \"HTTP/1.1 200 OK\"\n",
      "2025-08-22 10:30:35,377 - httpx - INFO - HTTP Request: POST https://aistudio.baidu.com/llm/lmapi/v3/chat/completions \"HTTP/1.1 200 OK\"\n",
      "2025-08-22 10:30:41,706 - httpx - INFO - HTTP Request: POST https://aistudio.baidu.com/llm/lmapi/v3/chat/completions \"HTTP/1.1 200 OK\"\n",
      "2025-08-22 10:30:42,261 - httpx - INFO - HTTP Request: POST https://aistudio.baidu.com/llm/lmapi/v3/chat/completions \"HTTP/1.1 200 OK\"\n",
      "2025-08-22 10:30:42,276 - VideoAnalysisSystem - INFO - ✅ Video YJ_Qs-zziMc preprocessing complete -> ./auto_market_research/log_YJ_Qs-zziMc.json\n",
      "2025-08-22 10:30:42,276 - VideoAnalysisSystem - INFO - \n",
      ">>> Preprocessing complete, starting Agent workflow...\n"
     ]
    },
    {
     "data": {
      "text/html": [
       "<pre style=\"white-space:pre;overflow-x:auto;line-height:normal;font-family:Menlo,'DejaVu Sans Mono',consolas,'Courier New',monospace\"><span style=\"color: #808000; text-decoration-color: #808000\">WARNING </span> <span style=\"color: #800080; text-decoration-color: #800080; font-weight: bold\">Workflow.run</span><span style=\"font-weight: bold\">()</span> should only yield RunResponseEvent objects, got: <span style=\"font-weight: bold\">&lt;</span><span style=\"color: #ff00ff; text-decoration-color: #ff00ff; font-weight: bold\">class</span><span style=\"color: #000000; text-decoration-color: #000000\"> </span><span style=\"color: #008000; text-decoration-color: #008000\">'agno.run.response.RunResponse'</span><span style=\"font-weight: bold\">&gt;</span>   \n",
       "</pre>\n"
      ],
      "text/plain": [
       "\u001b[33mWARNING \u001b[0m \u001b[1;35mWorkflow.run\u001b[0m\u001b[1m(\u001b[0m\u001b[1m)\u001b[0m should only yield RunResponseEvent objects, got: \u001b[1m<\u001b[0m\u001b[1;95mclass\u001b[0m\u001b[39m \u001b[0m\u001b[32m'agno.run.response.RunResponse'\u001b[0m\u001b[1m>\u001b[0m   \n"
      ]
     },
     "metadata": {},
     "output_type": "display_data"
    },
    {
     "name": "stdout",
     "output_type": "stream",
     "text": [
      "--- **Phase 1: Explorer Agent** is automatically discovering core analysis dimensions ---\n"
     ]
    },
    {
     "name": "stderr",
     "output_type": "stream",
     "text": [
      "2025-08-22 10:30:42,519 - httpx - INFO - HTTP Request: POST https://aistudio.baidu.com/llm/lmapi/v3/chat/completions \"HTTP/1.1 429 Too Many Requests\"\n",
      "2025-08-22 10:30:42,520 - openai._base_client - INFO - Retrying request to /chat/completions in 0.470447 seconds\n",
      "2025-08-22 10:30:43,158 - httpx - INFO - HTTP Request: POST https://aistudio.baidu.com/llm/lmapi/v3/chat/completions \"HTTP/1.1 429 Too Many Requests\"\n",
      "2025-08-22 10:30:43,161 - openai._base_client - INFO - Retrying request to /chat/completions in 0.969607 seconds\n",
      "2025-08-22 10:30:55,739 - httpx - INFO - HTTP Request: POST https://aistudio.baidu.com/llm/lmapi/v3/chat/completions \"HTTP/1.1 200 OK\"\n",
      "2025-08-22 10:31:00,362 - httpx - INFO - HTTP Request: POST https://api.agno.com/v1/telemetry/agent/run/create \"HTTP/1.1 200 OK\"\n"
     ]
    },
    {
     "data": {
      "text/html": [
       "<pre style=\"white-space:pre;overflow-x:auto;line-height:normal;font-family:Menlo,'DejaVu Sans Mono',consolas,'Courier New',monospace\"><span style=\"color: #808000; text-decoration-color: #808000\">WARNING </span> <span style=\"color: #800080; text-decoration-color: #800080; font-weight: bold\">Workflow.run</span><span style=\"font-weight: bold\">()</span> should only yield RunResponseEvent objects, got: <span style=\"font-weight: bold\">&lt;</span><span style=\"color: #ff00ff; text-decoration-color: #ff00ff; font-weight: bold\">class</span><span style=\"color: #000000; text-decoration-color: #000000\"> </span><span style=\"color: #008000; text-decoration-color: #008000\">'agno.run.response.RunResponse'</span><span style=\"font-weight: bold\">&gt;</span>   \n",
       "</pre>\n"
      ],
      "text/plain": [
       "\u001b[33mWARNING \u001b[0m \u001b[1;35mWorkflow.run\u001b[0m\u001b[1m(\u001b[0m\u001b[1m)\u001b[0m should only yield RunResponseEvent objects, got: \u001b[1m<\u001b[0m\u001b[1;95mclass\u001b[0m\u001b[39m \u001b[0m\u001b[32m'agno.run.response.RunResponse'\u001b[0m\u001b[1m>\u001b[0m   \n"
      ]
     },
     "metadata": {},
     "output_type": "display_data"
    },
    {
     "name": "stdout",
     "output_type": "stream",
     "text": [
      "✅ **Exploration Complete!**\n",
      "   - **Features Discovered**: [{'feature': '3.0T直列六缸发动机，最大马力381匹，最大扭矩520牛米，百公里加速5.8秒', 'frequency': 1}, {'feature': '48伏轻混系统，起步丝滑，发动机介入平稳', 'frequency': 1}, {'feature': '采埃孚变速箱，换挡逻辑清晰，减少顿挫感', 'frequency': 1}, {'feature': '前置适时四驱和多片离合器，提升驾驶稳定性和舒适性', 'frequency': 1}, {'feature': '多片离合器式中央差速器，自动切换两驱和四驱模式', 'frequency': 1}, {'feature': '问界M9增程式动力系统，前后双电机最大马力496匹，最大扭矩675牛米，百公里加速4.9秒', 'frequency': 1}, {'feature': '问界M9电动四驱，全系标配CDC可变阻尼减震器和单腔空气悬挂', 'frequency': 1}, {'feature': '问界M9途灵底盘，通过车身传感器采集路况信息，主动调节底盘，提升行驶质感', 'frequency': 1}, {'feature': '问界M9华为ADS2.0智驾系统，无图智驾功能领先', 'frequency': 1}]\n",
      "   - **Competitors Discovered**: ['宝马X7', '宝马X5', '奔驰E级', '奥迪A6L', '问界M9']\n"
     ]
    },
    {
     "data": {
      "text/html": [
       "<pre style=\"white-space:pre;overflow-x:auto;line-height:normal;font-family:Menlo,'DejaVu Sans Mono',consolas,'Courier New',monospace\"><span style=\"color: #808000; text-decoration-color: #808000\">WARNING </span> <span style=\"color: #800080; text-decoration-color: #800080; font-weight: bold\">Workflow.run</span><span style=\"font-weight: bold\">()</span> should only yield RunResponseEvent objects, got: <span style=\"font-weight: bold\">&lt;</span><span style=\"color: #ff00ff; text-decoration-color: #ff00ff; font-weight: bold\">class</span><span style=\"color: #000000; text-decoration-color: #000000\"> </span><span style=\"color: #008000; text-decoration-color: #008000\">'agno.run.response.RunResponse'</span><span style=\"font-weight: bold\">&gt;</span>   \n",
       "</pre>\n"
      ],
      "text/plain": [
       "\u001b[33mWARNING \u001b[0m \u001b[1;35mWorkflow.run\u001b[0m\u001b[1m(\u001b[0m\u001b[1m)\u001b[0m should only yield RunResponseEvent objects, got: \u001b[1m<\u001b[0m\u001b[1;95mclass\u001b[0m\u001b[39m \u001b[0m\u001b[32m'agno.run.response.RunResponse'\u001b[0m\u001b[1m>\u001b[0m   \n"
      ]
     },
     "metadata": {},
     "output_type": "display_data"
    },
    {
     "name": "stdout",
     "output_type": "stream",
     "text": [
      "\n",
      "--- **Phase 2: Analyst Agent** is performing focused analysis and sentiment tagging on the videos ---\n"
     ]
    },
    {
     "name": "stderr",
     "output_type": "stream",
     "text": [
      "2025-08-22 10:31:29,902 - httpx - INFO - HTTP Request: POST https://aistudio.baidu.com/llm/lmapi/v3/chat/completions \"HTTP/1.1 200 OK\"\n",
      "2025-08-22 10:31:34,251 - httpx - INFO - HTTP Request: POST https://api.agno.com/v1/telemetry/agent/run/create \"HTTP/1.1 200 OK\"\n",
      "2025-08-22 10:31:51,706 - httpx - INFO - HTTP Request: POST https://aistudio.baidu.com/llm/lmapi/v3/chat/completions \"HTTP/1.1 200 OK\"\n",
      "2025-08-22 10:31:55,743 - httpx - INFO - HTTP Request: POST https://api.agno.com/v1/telemetry/agent/run/create \"HTTP/1.1 200 OK\"\n"
     ]
    },
    {
     "data": {
      "text/html": [
       "<pre style=\"white-space:pre;overflow-x:auto;line-height:normal;font-family:Menlo,'DejaVu Sans Mono',consolas,'Courier New',monospace\"><span style=\"color: #808000; text-decoration-color: #808000\">WARNING </span> <span style=\"color: #800080; text-decoration-color: #800080; font-weight: bold\">Workflow.run</span><span style=\"font-weight: bold\">()</span> should only yield RunResponseEvent objects, got: <span style=\"font-weight: bold\">&lt;</span><span style=\"color: #ff00ff; text-decoration-color: #ff00ff; font-weight: bold\">class</span><span style=\"color: #000000; text-decoration-color: #000000\"> </span><span style=\"color: #008000; text-decoration-color: #008000\">'agno.run.response.RunResponse'</span><span style=\"font-weight: bold\">&gt;</span>   \n",
       "</pre>\n"
      ],
      "text/plain": [
       "\u001b[33mWARNING \u001b[0m \u001b[1;35mWorkflow.run\u001b[0m\u001b[1m(\u001b[0m\u001b[1m)\u001b[0m should only yield RunResponseEvent objects, got: \u001b[1m<\u001b[0m\u001b[1;95mclass\u001b[0m\u001b[39m \u001b[0m\u001b[32m'agno.run.response.RunResponse'\u001b[0m\u001b[1m>\u001b[0m   \n"
      ]
     },
     "metadata": {},
     "output_type": "display_data"
    },
    {
     "name": "stdout",
     "output_type": "stream",
     "text": [
      "✅ **Viewpoint Tagging Complete** for all videos.\n"
     ]
    },
    {
     "data": {
      "text/html": [
       "<pre style=\"white-space:pre;overflow-x:auto;line-height:normal;font-family:Menlo,'DejaVu Sans Mono',consolas,'Courier New',monospace\"><span style=\"color: #808000; text-decoration-color: #808000\">WARNING </span> <span style=\"color: #800080; text-decoration-color: #800080; font-weight: bold\">Workflow.run</span><span style=\"font-weight: bold\">()</span> should only yield RunResponseEvent objects, got: <span style=\"font-weight: bold\">&lt;</span><span style=\"color: #ff00ff; text-decoration-color: #ff00ff; font-weight: bold\">class</span><span style=\"color: #000000; text-decoration-color: #000000\"> </span><span style=\"color: #008000; text-decoration-color: #008000\">'agno.run.response.RunResponse'</span><span style=\"font-weight: bold\">&gt;</span>   \n",
       "</pre>\n"
      ],
      "text/plain": [
       "\u001b[33mWARNING \u001b[0m \u001b[1;35mWorkflow.run\u001b[0m\u001b[1m(\u001b[0m\u001b[1m)\u001b[0m should only yield RunResponseEvent objects, got: \u001b[1m<\u001b[0m\u001b[1;95mclass\u001b[0m\u001b[39m \u001b[0m\u001b[32m'agno.run.response.RunResponse'\u001b[0m\u001b[1m>\u001b[0m   \n"
      ]
     },
     "metadata": {},
     "output_type": "display_data"
    },
    {
     "name": "stdout",
     "output_type": "stream",
     "text": [
      "\n",
      "--- **Phase 3: Market Strategist Agent** is drafting the final insight report ---\n"
     ]
    },
    {
     "name": "stderr",
     "output_type": "stream",
     "text": [
      "2025-08-22 10:32:31,566 - httpx - INFO - HTTP Request: POST https://aistudio.baidu.com/llm/lmapi/v3/chat/completions \"HTTP/1.1 200 OK\"\n",
      "2025-08-22 10:32:35,662 - httpx - INFO - HTTP Request: POST https://api.agno.com/v1/telemetry/agent/run/create \"HTTP/1.1 200 OK\"\n"
     ]
    },
    {
     "data": {
      "text/html": [
       "<pre style=\"white-space:pre;overflow-x:auto;line-height:normal;font-family:Menlo,'DejaVu Sans Mono',consolas,'Courier New',monospace\"><span style=\"color: #808000; text-decoration-color: #808000\">WARNING </span> <span style=\"color: #800080; text-decoration-color: #800080; font-weight: bold\">Workflow.run</span><span style=\"font-weight: bold\">()</span> should only yield RunResponseEvent objects, got: <span style=\"font-weight: bold\">&lt;</span><span style=\"color: #ff00ff; text-decoration-color: #ff00ff; font-weight: bold\">class</span><span style=\"color: #000000; text-decoration-color: #000000\"> </span><span style=\"color: #008000; text-decoration-color: #008000\">'agno.run.response.RunResponse'</span><span style=\"font-weight: bold\">&gt;</span>   \n",
       "</pre>\n"
      ],
      "text/plain": [
       "\u001b[33mWARNING \u001b[0m \u001b[1;35mWorkflow.run\u001b[0m\u001b[1m(\u001b[0m\u001b[1m)\u001b[0m should only yield RunResponseEvent objects, got: \u001b[1m<\u001b[0m\u001b[1;95mclass\u001b[0m\u001b[39m \u001b[0m\u001b[32m'agno.run.response.RunResponse'\u001b[0m\u001b[1m>\u001b[0m   \n"
      ]
     },
     "metadata": {},
     "output_type": "display_data"
    },
    {
     "name": "stdout",
     "output_type": "stream",
     "text": [
      "\n",
      "--- **Workflow Successfully Completed** ---"
     ]
    },
    {
     "data": {
      "text/html": [
       "<pre style=\"white-space:pre;overflow-x:auto;line-height:normal;font-family:Menlo,'DejaVu Sans Mono',consolas,'Courier New',monospace\"><span style=\"color: #808000; text-decoration-color: #808000\">WARNING </span> <span style=\"color: #800080; text-decoration-color: #800080; font-weight: bold\">Workflow.run</span><span style=\"font-weight: bold\">()</span> should only yield RunResponseEvent objects, got: <span style=\"font-weight: bold\">&lt;</span><span style=\"color: #ff00ff; text-decoration-color: #ff00ff; font-weight: bold\">class</span><span style=\"color: #000000; text-decoration-color: #000000\"> </span><span style=\"color: #008000; text-decoration-color: #008000\">'agno.run.response.RunResponse'</span><span style=\"font-weight: bold\">&gt;</span>   \n",
       "</pre>\n"
      ],
      "text/plain": [
       "\u001b[33mWARNING \u001b[0m \u001b[1;35mWorkflow.run\u001b[0m\u001b[1m(\u001b[0m\u001b[1m)\u001b[0m should only yield RunResponseEvent objects, got: \u001b[1m<\u001b[0m\u001b[1;95mclass\u001b[0m\u001b[39m \u001b[0m\u001b[32m'agno.run.response.RunResponse'\u001b[0m\u001b[1m>\u001b[0m   \n"
      ]
     },
     "metadata": {},
     "output_type": "display_data"
    },
    {
     "name": "stdout",
     "output_type": "stream",
     "text": [
      "\n",
      "\n",
      "================================================================================\n",
      "            Final Public Opinion Insight Report\n",
      "================================================================================\n",
      "\n"
     ]
    },
    {
     "data": {
      "text/html": [
       "<pre style=\"white-space:pre;overflow-x:auto;line-height:normal;font-family:Menlo,'DejaVu Sans Mono',consolas,'Courier New',monospace\"><span style=\"color: #808000; text-decoration-color: #808000\">WARNING </span> <span style=\"color: #800080; text-decoration-color: #800080; font-weight: bold\">Workflow.run</span><span style=\"font-weight: bold\">()</span> should only yield RunResponseEvent objects, got: <span style=\"font-weight: bold\">&lt;</span><span style=\"color: #ff00ff; text-decoration-color: #ff00ff; font-weight: bold\">class</span><span style=\"color: #000000; text-decoration-color: #000000\"> </span><span style=\"color: #008000; text-decoration-color: #008000\">'agno.run.response.RunResponse'</span><span style=\"font-weight: bold\">&gt;</span>   \n",
       "</pre>\n"
      ],
      "text/plain": [
       "\u001b[33mWARNING \u001b[0m \u001b[1;35mWorkflow.run\u001b[0m\u001b[1m(\u001b[0m\u001b[1m)\u001b[0m should only yield RunResponseEvent objects, got: \u001b[1m<\u001b[0m\u001b[1;95mclass\u001b[0m\u001b[39m \u001b[0m\u001b[32m'agno.run.response.RunResponse'\u001b[0m\u001b[1m>\u001b[0m   \n"
      ]
     },
     "metadata": {},
     "output_type": "display_data"
    },
    {
     "name": "stderr",
     "output_type": "stream",
     "text": [
      "2025-08-22 10:32:35,678 - VideoAnalysisSystem - INFO - \n",
      "\n",
      ">>> Workflow execution finished, rendering the final report...\n"
     ]
    },
    {
     "name": "stdout",
     "output_type": "stream",
     "text": [
      "### Market Insight Report: Public Opinion Analysis on New Car Models\n",
      "\n",
      "#### 1. Statistical Analysis of Positive/Negative Sentiment for Core Features\n",
      "\n",
      "Based on the aggregated public opinion data, the following statistical analysis highlights the sentiment distribution across core features of the new car models:\n",
      "\n",
      "- **3.0T Inline-Six Engine with 381 Horsepower and 520 Nm Torque**: \n",
      "  - Positive Sentiment: 100% (1/1)\n",
      "- **48V Mild Hybrid System for Smooth Starts and Steady Engine Engagement**:\n",
      "  - Positive Sentiment: 100% (1/1)\n",
      "- **ZF Transmission with Clear Shift Logic and Reduced Jolt**:\n",
      "  - Positive Sentiment: 100% (1/1)\n",
      "- **Front Adaptive Four-Wheel Drive and Multi-Plate Clutch for Enhanced Stability and Comfort**:\n",
      "  - Positive Sentiment: 100% (1/1)\n",
      "- **Multi-Plate Clutch Central Differential for Automatic Two/Four-Wheel Drive Switching**:\n",
      "  - Positive Sentiment: 100% (1/1)\n",
      "- **AITO M9 Extended-Range Power System with Dual Motors, 496 Horsepower, 675 Nm Torque, and 4.9s Acceleration**:\n",
      "  - Positive Sentiment: 100% (2/2)\n",
      "- **AITO M9 Electric Four-Wheel Drive with CDC Variable Damping Shock Absorbers and Single-Cavity Air Suspension**:\n",
      "  - Positive Sentiment: 100% (2/2)\n",
      "- **AITO M9 Tuling Chassis with Road Sensors for Active Chassis Adjustment and Enhanced Ride Quality**:\n",
      "  - Positive Sentiment: 100% (2/2)\n",
      "- **AITO M9 Huawei ADS 2.0 Intelligent Driving System with Leading Mapless Driving Functionality**:\n",
      "  - Positive Sentiment: 100% (2/2)\n",
      "- **BMW X7**:\n",
      "  - Positive Sentiment: 50% (1/2)\n",
      "  - Neutral Sentiment: 50% (1/2)\n",
      "- **BMW X5**:\n",
      "  - Positive Sentiment: 50% (1/2)\n",
      "  - Neutral Sentiment: 50% (1/2)\n",
      "- **Mercedes-Benz E-Class**:\n",
      "  - Negative Sentiment: 100% (1/1, with one neutral)\n",
      "- **Audi A6L**:\n",
      "  - Negative Sentiment: 100% (1/1, with one neutral)\n",
      "- **AITO M9**:\n",
      "  - Positive Sentiment: 100% (2/2)\n",
      "\n",
      "#### 2. Summary of Major Pros and Cons\n",
      "\n",
      "**Pros:**\n",
      "\n",
      "- **Engine Performance**: The 3.0T inline-six engine delivers a robust 381 horsepower and 520 Nm torque, with a swift 5.8-second acceleration to 100 km/h. The engine's layout ensures powerful and stable output.\n",
      "  - *Quote*: \"3.0t, directly reaching maximum horsepower of 381, maximum torque of 520 Nm, don't underestimate this car as the largest model among BMWs, it drives very flexibly.\"\n",
      "\n",
      "- **Hybrid System**: The 48V mild hybrid system ensures smooth starts and steady engine engagement when speed increases.\n",
      "  - *Quote*: \"The car incorporates a 48V mild hybrid system for smooth starts, and when speed increases, the engine engages, utilizing an inline-cylinder layout for stronger and more stable power output.\"\n",
      "\n",
      "- **Transmission**: The ZF transmission's clear shift logic minimizes jolt, providing a seamless driving experience.\n",
      "  - *Quote*: \"Especially during high-speed driving requiring rapid acceleration, the ZF transmission's shift logic is clear, as if it can read your mind, quickly downshifting to the appropriate gear to meet power demands while minimizing jolt.\"\n",
      "\n",
      "- **Four-Wheel Drive System**: The front adaptive four-wheel drive and multi-plate clutch significantly enhance driving stability and comfort.\n",
      "  - *Quote*: \"The use of front adaptive four-wheel drive and multi-plate clutch further enhances driving stability and comfort.\"\n",
      "\n",
      "- **AITO M9 Performance and Technology**: The AITO M9's extended-range power system with dual motors, electric four-wheel drive, Tuling chassis, and Huawei ADS 2.0 intelligent driving system sets a new benchmark in performance and智能化（intelligence, but \"intelligence\" is better understood in context; here it refers to \"智能驾驶系统\" or \"intelligent driving system\") driving technology.\n",
      "  - *Quote*: \"The AITO M9's killer feature is its Huawei-developed ADS 2.0 intelligent driving system, which can drive virtually anywhere, making high-speed and long-distance driving truly effortless and safe.\"\n",
      "\n",
      "**Cons:**\n",
      "\n",
      "- **Brand Perception**: Compared to AITO M9, traditional luxury brands like BMW, Mercedes-Benz, and Audi are perceived as less innovative and prestigious in certain aspects.\n",
      "  - *Quote*: \"In two or three years, BBA (Benz, BMW, Audi) will lose their prestige. They won't be as prestigious as a Mercedes-Benz E-Class or BMW 5 Series, or even an Audi A6L.\"\n",
      "\n",
      "#### 3. Competitive Analysis\n",
      "\n",
      "- **BMW X7 and X5**: Both models are praised for their flexible handling and powerful engine performance. However, they face criticism for potentially losing their prestige and innovative edge compared to newer models like the AITO M9.\n",
      "- **Mercedes-Benz E-Class and Audi A6L**: These models are viewed less favorably in terms of prestige and innovation, with direct comparisons highlighting the AITO M9's superiority in comfort, luxury, and technological advancements.\n",
      "- **AITO M9**: This model stands out with its exceptional power, advanced chassis technology, and intelligent driving system. It is positioned as a strong competitor to established luxury brands, offering superior performance, comfort, and cutting-edge technology.\n",
      "\n",
      "#### 4. Conclusions and Recommendations\n",
      "\n",
      "**Conclusions:**\n",
      "\n",
      "- The new car models, particularly the AITO M9, demonstrate significant advancements in power, technology, and driving experience.\n",
      "- Traditional luxury brands like BMW, Mercedes-Benz, and Audi face challenges in maintaining their prestige and innovative image in the face of emerging competitors.\n",
      "- The AITO M9's extended-range power system, electric four-wheel drive, Tuling chassis, and Huawei ADS 2.0 intelligent driving system set new standards in the automotive industry.\n",
      "\n",
      "**Recommendations:**\n",
      "\n",
      "1. **Enhance Brand Image**: Traditional luxury brands should focus on enhancing their brand image through innovation and technological advancements to compete with emerging models like the AITO M9.\n",
      "2. **Invest in Technology**: Automakers should invest in research and development to improve power systems, transmission, and intelligent driving technologies to meet evolving consumer demands.\n",
      "3. **Market Positioning**: Clearly position new models to highlight their unique selling points, such as performance, comfort, and technological advancements, to attract target consumers.\n",
      "4. **Consumer Education**: Educate consumers about the benefits and advancements of new technologies to increase market acceptance and demand.\n",
      "\n",
      "By implementing these recommendations, automakers can better position themselves in the competitive market and meet the evolving demands of consumers."
     ]
    },
    {
     "data": {
      "text/markdown": [
       "### Market Insight Report: Public Opinion Analysis on New Car Models\n",
       "\n",
       "#### 1. Statistical Analysis of Positive/Negative Sentiment for Core Features\n",
       "\n",
       "Based on the aggregated public opinion data, the following statistical analysis highlights the sentiment distribution across core features of the new car models:\n",
       "\n",
       "- **3.0T Inline-Six Engine with 381 Horsepower and 520 Nm Torque**: \n",
       "  - Positive Sentiment: 100% (1/1)\n",
       "- **48V Mild Hybrid System for Smooth Starts and Steady Engine Engagement**:\n",
       "  - Positive Sentiment: 100% (1/1)\n",
       "- **ZF Transmission with Clear Shift Logic and Reduced Jolt**:\n",
       "  - Positive Sentiment: 100% (1/1)\n",
       "- **Front Adaptive Four-Wheel Drive and Multi-Plate Clutch for Enhanced Stability and Comfort**:\n",
       "  - Positive Sentiment: 100% (1/1)\n",
       "- **Multi-Plate Clutch Central Differential for Automatic Two/Four-Wheel Drive Switching**:\n",
       "  - Positive Sentiment: 100% (1/1)\n",
       "- **AITO M9 Extended-Range Power System with Dual Motors, 496 Horsepower, 675 Nm Torque, and 4.9s Acceleration**:\n",
       "  - Positive Sentiment: 100% (2/2)\n",
       "- **AITO M9 Electric Four-Wheel Drive with CDC Variable Damping Shock Absorbers and Single-Cavity Air Suspension**:\n",
       "  - Positive Sentiment: 100% (2/2)\n",
       "- **AITO M9 Tuling Chassis with Road Sensors for Active Chassis Adjustment and Enhanced Ride Quality**:\n",
       "  - Positive Sentiment: 100% (2/2)\n",
       "- **AITO M9 Huawei ADS 2.0 Intelligent Driving System with Leading Mapless Driving Functionality**:\n",
       "  - Positive Sentiment: 100% (2/2)\n",
       "- **BMW X7**:\n",
       "  - Positive Sentiment: 50% (1/2)\n",
       "  - Neutral Sentiment: 50% (1/2)\n",
       "- **BMW X5**:\n",
       "  - Positive Sentiment: 50% (1/2)\n",
       "  - Neutral Sentiment: 50% (1/2)\n",
       "- **Mercedes-Benz E-Class**:\n",
       "  - Negative Sentiment: 100% (1/1, with one neutral)\n",
       "- **Audi A6L**:\n",
       "  - Negative Sentiment: 100% (1/1, with one neutral)\n",
       "- **AITO M9**:\n",
       "  - Positive Sentiment: 100% (2/2)\n",
       "\n",
       "#### 2. Summary of Major Pros and Cons\n",
       "\n",
       "**Pros:**\n",
       "\n",
       "- **Engine Performance**: The 3.0T inline-six engine delivers a robust 381 horsepower and 520 Nm torque, with a swift 5.8-second acceleration to 100 km/h. The engine's layout ensures powerful and stable output.\n",
       "  - *Quote*: \"3.0t, directly reaching maximum horsepower of 381, maximum torque of 520 Nm, don't underestimate this car as the largest model among BMWs, it drives very flexibly.\"\n",
       "\n",
       "- **Hybrid System**: The 48V mild hybrid system ensures smooth starts and steady engine engagement when speed increases.\n",
       "  - *Quote*: \"The car incorporates a 48V mild hybrid system for smooth starts, and when speed increases, the engine engages, utilizing an inline-cylinder layout for stronger and more stable power output.\"\n",
       "\n",
       "- **Transmission**: The ZF transmission's clear shift logic minimizes jolt, providing a seamless driving experience.\n",
       "  - *Quote*: \"Especially during high-speed driving requiring rapid acceleration, the ZF transmission's shift logic is clear, as if it can read your mind, quickly downshifting to the appropriate gear to meet power demands while minimizing jolt.\"\n",
       "\n",
       "- **Four-Wheel Drive System**: The front adaptive four-wheel drive and multi-plate clutch significantly enhance driving stability and comfort.\n",
       "  - *Quote*: \"The use of front adaptive four-wheel drive and multi-plate clutch further enhances driving stability and comfort.\"\n",
       "\n",
       "- **AITO M9 Performance and Technology**: The AITO M9's extended-range power system with dual motors, electric four-wheel drive, Tuling chassis, and Huawei ADS 2.0 intelligent driving system sets a new benchmark in performance and智能化（intelligence, but \"intelligence\" is better understood in context; here it refers to \"智能驾驶系统\" or \"intelligent driving system\") driving technology.\n",
       "  - *Quote*: \"The AITO M9's killer feature is its Huawei-developed ADS 2.0 intelligent driving system, which can drive virtually anywhere, making high-speed and long-distance driving truly effortless and safe.\"\n",
       "\n",
       "**Cons:**\n",
       "\n",
       "- **Brand Perception**: Compared to AITO M9, traditional luxury brands like BMW, Mercedes-Benz, and Audi are perceived as less innovative and prestigious in certain aspects.\n",
       "  - *Quote*: \"In two or three years, BBA (Benz, BMW, Audi) will lose their prestige. They won't be as prestigious as a Mercedes-Benz E-Class or BMW 5 Series, or even an Audi A6L.\"\n",
       "\n",
       "#### 3. Competitive Analysis\n",
       "\n",
       "- **BMW X7 and X5**: Both models are praised for their flexible handling and powerful engine performance. However, they face criticism for potentially losing their prestige and innovative edge compared to newer models like the AITO M9.\n",
       "- **Mercedes-Benz E-Class and Audi A6L**: These models are viewed less favorably in terms of prestige and innovation, with direct comparisons highlighting the AITO M9's superiority in comfort, luxury, and technological advancements.\n",
       "- **AITO M9**: This model stands out with its exceptional power, advanced chassis technology, and intelligent driving system. It is positioned as a strong competitor to established luxury brands, offering superior performance, comfort, and cutting-edge technology.\n",
       "\n",
       "#### 4. Conclusions and Recommendations\n",
       "\n",
       "**Conclusions:**\n",
       "\n",
       "- The new car models, particularly the AITO M9, demonstrate significant advancements in power, technology, and driving experience.\n",
       "- Traditional luxury brands like BMW, Mercedes-Benz, and Audi face challenges in maintaining their prestige and innovative image in the face of emerging competitors.\n",
       "- The AITO M9's extended-range power system, electric four-wheel drive, Tuling chassis, and Huawei ADS 2.0 intelligent driving system set new standards in the automotive industry.\n",
       "\n",
       "**Recommendations:**\n",
       "\n",
       "1. **Enhance Brand Image**: Traditional luxury brands should focus on enhancing their brand image through innovation and technological advancements to compete with emerging models like the AITO M9.\n",
       "2. **Invest in Technology**: Automakers should invest in research and development to improve power systems, transmission, and intelligent driving technologies to meet evolving consumer demands.\n",
       "3. **Market Positioning**: Clearly position new models to highlight their unique selling points, such as performance, comfort, and technological advancements, to attract target consumers.\n",
       "4. **Consumer Education**: Educate consumers about the benefits and advancements of new technologies to increase market acceptance and demand.\n",
       "\n",
       "By implementing these recommendations, automakers can better position themselves in the competitive market and meet the evolving demands of consumers."
      ],
      "text/plain": [
       "<IPython.core.display.Markdown object>"
      ]
     },
     "metadata": {},
     "output_type": "display_data"
    }
   ],
   "source": [
    "def main():\n",
    "    \"\"\"Main execution entry point\"\"\"\n",
    "    # Check if the configuration is filled out\n",
    "    # This check is now simplified as we hardcoded the keys above for this example\n",
    "    # but it's good practice to keep it for future use.\n",
    "    if \"YOUR_\" in Config.BAIDU_APP_ID or \"YOUR_\" in Config.ERNIE_API_KEY:\n",
    "        logger.error(\"❌ Fatal Error: Please fill in your actual API Keys in the Config class in step 4.\")\n",
    "        return\n",
    "        \n",
    "    # Step 1: Batch preprocess videos with caching\n",
    "    logger.info(\">>> Starting batch video preprocessing...\")\n",
    "    video_log_paths = batch_preprocess_videos(Config)\n",
    "    \n",
    "    if not video_log_paths:\n",
    "        logger.error(\"All video preprocessing failed, terminating workflow. Please check video links or network connection.\")\n",
    "        return\n",
    "\n",
    "    # Step 2: Initialize and run the Agent workflow\n",
    "    logger.info(\"\\n>>> Preprocessing complete, starting Agent workflow...\")\n",
    "    workflow = AutoMarketResearchWorkflow(Config, video_log_paths)\n",
    "\n",
    "    final_report_content = \"\"\n",
    "    # Stream the output of each step in the workflow\n",
    "    for response in workflow.run():\n",
    "        print(response.content, end=\"\")\n",
    "        # Continuously capture the full content of the final report\n",
    "        # The check string is now in English\n",
    "        if \"Final Public Opinion Insight Report\" in response.content:\n",
    "             final_report_content = \"\" # Report starts, clear the content\n",
    "        elif \"--- Workflow Successfully Completed ---\" not in response.content:\n",
    "             final_report_content += response.content\n",
    "\n",
    "    # Step 3: Elegantly display the final report using Markdown format\n",
    "    logger.info(\"\\n\\n>>> Workflow execution finished, rendering the final report...\")\n",
    "    \n",
    "    final_report_from_state = workflow.session_state.get('final_report')\n",
    "\n",
    "    if final_report_from_state:\n",
    "        # Elegantly display the final report using Markdown format\n",
    "        display(Markdown(final_report_from_state))\n",
    "    else:\n",
    "        # If the report is not in the state for some reason, provide a clear failure message\n",
    "        error_message = \"# Failed to Generate Final Report\\nThe workflow has finished, but 'final_report' was not found in session_state. Please check the run logs of the Strategist Agent.\"\n",
    "        display(Markdown(error_message))\n",
    "\n",
    "# --- Run! ---\n",
    "# Use a guard to prevent execution when importing\n",
    "if 'ipykernel' in __import__('sys').modules:\n",
    "    main()"
   ]
  }
 ],
 "metadata": {
  "kernelspec": {
   "display_name": "agent",
   "language": "python",
   "name": "python3"
  },
  "language_info": {
   "codemirror_mode": {
    "name": "ipython",
    "version": 3
   },
   "file_extension": ".py",
   "mimetype": "text/x-python",
   "name": "python",
   "nbconvert_exporter": "python",
   "pygments_lexer": "ipython3",
   "version": "3.11.13"
  }
 },
 "nbformat": 4,
 "nbformat_minor": 4
}
